{
  "nbformat": 4,
  "nbformat_minor": 0,
  "metadata": {
    "kernelspec": {
      "display_name": "Python 3",
      "language": "python",
      "name": "python3"
    },
    "language_info": {
      "codemirror_mode": {
        "name": "ipython",
        "version": 3
      },
      "file_extension": ".py",
      "mimetype": "text/x-python",
      "name": "python",
      "nbconvert_exporter": "python",
      "pygments_lexer": "ipython3",
      "version": "3.7.4"
    },
    "colab": {
      "name": "PPI_Yeast_editing.ipynb",
      "provenance": [],
      "collapsed_sections": [],
      "toc_visible": true
    }
  },
  "cells": [
    {
      "cell_type": "markdown",
      "metadata": {
        "id": "5nzZBac30SHF"
      },
      "source": [
        "#Predicting Protein Interaction using GCNs on Yeast Dataset"
      ]
    },
    {
      "cell_type": "markdown",
      "metadata": {
        "id": "bYrP35XwjHYA"
      },
      "source": [
        "## It is very interesting to predict the protein protein interection using GCN (Graph Convoultion Network) "
      ]
    },
    {
      "cell_type": "markdown",
      "metadata": {
        "id": "GUJrcktnjh_Q"
      },
      "source": [
        "#### In this note book we will not discuss in details about the GCN, but if one is interested then can refer articel by Thomas Knief [Link](https://tkipf.github.io/graph-convolutional-networks/)."
      ]
    },
    {
      "cell_type": "markdown",
      "metadata": {
        "id": "7bt1ZQ300oPa"
      },
      "source": [
        "**Note:** This notebook uses CUDA v.10.1. If your PC is not supported, run this notebook on Colab with GPU settings turned on.\n",
        "Specifically this .ipynb is executed on google Colab"
      ]
    },
    {
      "cell_type": "markdown",
      "metadata": {
        "id": "Ku6xSwx2mOXE"
      },
      "source": [
        "### Outline of note book\n",
        "\n",
        "<ol>\n",
        "<li> Importing or installing required libraries. \n",
        "<li> Load the dataset. \n",
        "<li> Clean the data if needed.\n",
        "<li> Split our data into training, validation, and testing.\n",
        "<li> Define our Neural netowrk. \n",
        "<li> Tuning our model on the validation dataset.\n",
        "<li> Measuring performance of the model.  \n",
        "</ol>"
      ]
    },
    {
      "cell_type": "markdown",
      "metadata": {
        "id": "UzxF71s2kqiX"
      },
      "source": [
        "##### 1. Installing and importing some important packages \n",
        "* Stellergraph \n",
        "* dgl (Deep Graph Library)\n",
        "* Networkx \n",
        "* Torch(Pytorch)\n",
        "* Sklearn\n",
        "* Dataset\n",
        "* Dataloader\n",
        "* Numpy\n",
        "* Pandas\n",
        "* Seaborn\n",
        "* Matplotlib\n"
      ]
    },
    {
      "cell_type": "code",
      "metadata": {
        "id": "-8cVeBbdf9gD",
        "colab": {
          "base_uri": "https://localhost:8080/"
        },
        "outputId": "375af527-6bab-4c07-86d7-1a1fdc0721b9"
      },
      "source": [
        "!pip install dgl-cu101"
      ],
      "execution_count": null,
      "outputs": [
        {
          "output_type": "stream",
          "text": [
            "Requirement already satisfied: dgl-cu101 in /usr/local/lib/python3.6/dist-packages (0.5.2)\n",
            "Requirement already satisfied: requests>=2.19.0 in /usr/local/lib/python3.6/dist-packages (from dgl-cu101) (2.23.0)\n",
            "Requirement already satisfied: numpy>=1.14.0 in /usr/local/lib/python3.6/dist-packages (from dgl-cu101) (1.18.5)\n",
            "Requirement already satisfied: networkx>=2.1 in /usr/local/lib/python3.6/dist-packages (from dgl-cu101) (2.5)\n",
            "Requirement already satisfied: scipy>=1.1.0 in /usr/local/lib/python3.6/dist-packages (from dgl-cu101) (1.4.1)\n",
            "Requirement already satisfied: urllib3!=1.25.0,!=1.25.1,<1.26,>=1.21.1 in /usr/local/lib/python3.6/dist-packages (from requests>=2.19.0->dgl-cu101) (1.24.3)\n",
            "Requirement already satisfied: idna<3,>=2.5 in /usr/local/lib/python3.6/dist-packages (from requests>=2.19.0->dgl-cu101) (2.10)\n",
            "Requirement already satisfied: chardet<4,>=3.0.2 in /usr/local/lib/python3.6/dist-packages (from requests>=2.19.0->dgl-cu101) (3.0.4)\n",
            "Requirement already satisfied: certifi>=2017.4.17 in /usr/local/lib/python3.6/dist-packages (from requests>=2.19.0->dgl-cu101) (2020.6.20)\n",
            "Requirement already satisfied: decorator>=4.3.0 in /usr/local/lib/python3.6/dist-packages (from networkx>=2.1->dgl-cu101) (4.4.2)\n"
          ],
          "name": "stdout"
        }
      ]
    },
    {
      "cell_type": "code",
      "metadata": {
        "id": "xgs48TGW1-6e",
        "colab": {
          "base_uri": "https://localhost:8080/"
        },
        "outputId": "d5fed2ae-3547-4061-93fe-5d1177af58f2"
      },
      "source": [
        "!pip install stellargraph"
      ],
      "execution_count": null,
      "outputs": [
        {
          "output_type": "stream",
          "text": [
            "Requirement already satisfied: stellargraph in /usr/local/lib/python3.6/dist-packages (1.2.1)\n",
            "Requirement already satisfied: tensorflow>=2.1.0 in /usr/local/lib/python3.6/dist-packages (from stellargraph) (2.3.0)\n",
            "Requirement already satisfied: scipy>=1.1.0 in /usr/local/lib/python3.6/dist-packages (from stellargraph) (1.4.1)\n",
            "Requirement already satisfied: pandas>=0.24 in /usr/local/lib/python3.6/dist-packages (from stellargraph) (1.0.5)\n",
            "Requirement already satisfied: networkx>=2.2 in /usr/local/lib/python3.6/dist-packages (from stellargraph) (2.5)\n",
            "Requirement already satisfied: matplotlib>=2.2 in /usr/local/lib/python3.6/dist-packages (from stellargraph) (3.2.2)\n",
            "Requirement already satisfied: numpy>=1.14 in /usr/local/lib/python3.6/dist-packages (from stellargraph) (1.18.5)\n",
            "Requirement already satisfied: gensim>=3.4.0 in /usr/local/lib/python3.6/dist-packages (from stellargraph) (3.6.0)\n",
            "Requirement already satisfied: scikit-learn>=0.20 in /usr/local/lib/python3.6/dist-packages (from stellargraph) (0.22.2.post1)\n",
            "Requirement already satisfied: google-pasta>=0.1.8 in /usr/local/lib/python3.6/dist-packages (from tensorflow>=2.1.0->stellargraph) (0.2.0)\n",
            "Requirement already satisfied: protobuf>=3.9.2 in /usr/local/lib/python3.6/dist-packages (from tensorflow>=2.1.0->stellargraph) (3.12.4)\n",
            "Requirement already satisfied: grpcio>=1.8.6 in /usr/local/lib/python3.6/dist-packages (from tensorflow>=2.1.0->stellargraph) (1.32.0)\n",
            "Requirement already satisfied: wheel>=0.26 in /usr/local/lib/python3.6/dist-packages (from tensorflow>=2.1.0->stellargraph) (0.35.1)\n",
            "Requirement already satisfied: astunparse==1.6.3 in /usr/local/lib/python3.6/dist-packages (from tensorflow>=2.1.0->stellargraph) (1.6.3)\n",
            "Requirement already satisfied: absl-py>=0.7.0 in /usr/local/lib/python3.6/dist-packages (from tensorflow>=2.1.0->stellargraph) (0.10.0)\n",
            "Requirement already satisfied: tensorflow-estimator<2.4.0,>=2.3.0 in /usr/local/lib/python3.6/dist-packages (from tensorflow>=2.1.0->stellargraph) (2.3.0)\n",
            "Requirement already satisfied: tensorboard<3,>=2.3.0 in /usr/local/lib/python3.6/dist-packages (from tensorflow>=2.1.0->stellargraph) (2.3.0)\n",
            "Requirement already satisfied: keras-preprocessing<1.2,>=1.1.1 in /usr/local/lib/python3.6/dist-packages (from tensorflow>=2.1.0->stellargraph) (1.1.2)\n",
            "Requirement already satisfied: wrapt>=1.11.1 in /usr/local/lib/python3.6/dist-packages (from tensorflow>=2.1.0->stellargraph) (1.12.1)\n",
            "Requirement already satisfied: termcolor>=1.1.0 in /usr/local/lib/python3.6/dist-packages (from tensorflow>=2.1.0->stellargraph) (1.1.0)\n",
            "Requirement already satisfied: six>=1.12.0 in /usr/local/lib/python3.6/dist-packages (from tensorflow>=2.1.0->stellargraph) (1.15.0)\n",
            "Requirement already satisfied: h5py<2.11.0,>=2.10.0 in /usr/local/lib/python3.6/dist-packages (from tensorflow>=2.1.0->stellargraph) (2.10.0)\n",
            "Requirement already satisfied: opt-einsum>=2.3.2 in /usr/local/lib/python3.6/dist-packages (from tensorflow>=2.1.0->stellargraph) (3.3.0)\n",
            "Requirement already satisfied: gast==0.3.3 in /usr/local/lib/python3.6/dist-packages (from tensorflow>=2.1.0->stellargraph) (0.3.3)\n",
            "Requirement already satisfied: pytz>=2017.2 in /usr/local/lib/python3.6/dist-packages (from pandas>=0.24->stellargraph) (2018.9)\n",
            "Requirement already satisfied: python-dateutil>=2.6.1 in /usr/local/lib/python3.6/dist-packages (from pandas>=0.24->stellargraph) (2.8.1)\n",
            "Requirement already satisfied: decorator>=4.3.0 in /usr/local/lib/python3.6/dist-packages (from networkx>=2.2->stellargraph) (4.4.2)\n",
            "Requirement already satisfied: kiwisolver>=1.0.1 in /usr/local/lib/python3.6/dist-packages (from matplotlib>=2.2->stellargraph) (1.2.0)\n",
            "Requirement already satisfied: pyparsing!=2.0.4,!=2.1.2,!=2.1.6,>=2.0.1 in /usr/local/lib/python3.6/dist-packages (from matplotlib>=2.2->stellargraph) (2.4.7)\n",
            "Requirement already satisfied: cycler>=0.10 in /usr/local/lib/python3.6/dist-packages (from matplotlib>=2.2->stellargraph) (0.10.0)\n",
            "Requirement already satisfied: smart-open>=1.2.1 in /usr/local/lib/python3.6/dist-packages (from gensim>=3.4.0->stellargraph) (2.1.1)\n",
            "Requirement already satisfied: joblib>=0.11 in /usr/local/lib/python3.6/dist-packages (from scikit-learn>=0.20->stellargraph) (0.16.0)\n",
            "Requirement already satisfied: setuptools in /usr/local/lib/python3.6/dist-packages (from protobuf>=3.9.2->tensorflow>=2.1.0->stellargraph) (50.3.0)\n",
            "Requirement already satisfied: requests<3,>=2.21.0 in /usr/local/lib/python3.6/dist-packages (from tensorboard<3,>=2.3.0->tensorflow>=2.1.0->stellargraph) (2.23.0)\n",
            "Requirement already satisfied: google-auth<2,>=1.6.3 in /usr/local/lib/python3.6/dist-packages (from tensorboard<3,>=2.3.0->tensorflow>=2.1.0->stellargraph) (1.17.2)\n",
            "Requirement already satisfied: werkzeug>=0.11.15 in /usr/local/lib/python3.6/dist-packages (from tensorboard<3,>=2.3.0->tensorflow>=2.1.0->stellargraph) (1.0.1)\n",
            "Requirement already satisfied: google-auth-oauthlib<0.5,>=0.4.1 in /usr/local/lib/python3.6/dist-packages (from tensorboard<3,>=2.3.0->tensorflow>=2.1.0->stellargraph) (0.4.1)\n",
            "Requirement already satisfied: tensorboard-plugin-wit>=1.6.0 in /usr/local/lib/python3.6/dist-packages (from tensorboard<3,>=2.3.0->tensorflow>=2.1.0->stellargraph) (1.7.0)\n",
            "Requirement already satisfied: markdown>=2.6.8 in /usr/local/lib/python3.6/dist-packages (from tensorboard<3,>=2.3.0->tensorflow>=2.1.0->stellargraph) (3.2.2)\n",
            "Requirement already satisfied: boto3 in /usr/local/lib/python3.6/dist-packages (from smart-open>=1.2.1->gensim>=3.4.0->stellargraph) (1.14.63)\n",
            "Requirement already satisfied: boto in /usr/local/lib/python3.6/dist-packages (from smart-open>=1.2.1->gensim>=3.4.0->stellargraph) (2.49.0)\n",
            "Requirement already satisfied: urllib3!=1.25.0,!=1.25.1,<1.26,>=1.21.1 in /usr/local/lib/python3.6/dist-packages (from requests<3,>=2.21.0->tensorboard<3,>=2.3.0->tensorflow>=2.1.0->stellargraph) (1.24.3)\n",
            "Requirement already satisfied: chardet<4,>=3.0.2 in /usr/local/lib/python3.6/dist-packages (from requests<3,>=2.21.0->tensorboard<3,>=2.3.0->tensorflow>=2.1.0->stellargraph) (3.0.4)\n",
            "Requirement already satisfied: idna<3,>=2.5 in /usr/local/lib/python3.6/dist-packages (from requests<3,>=2.21.0->tensorboard<3,>=2.3.0->tensorflow>=2.1.0->stellargraph) (2.10)\n",
            "Requirement already satisfied: certifi>=2017.4.17 in /usr/local/lib/python3.6/dist-packages (from requests<3,>=2.21.0->tensorboard<3,>=2.3.0->tensorflow>=2.1.0->stellargraph) (2020.6.20)\n",
            "Requirement already satisfied: rsa<5,>=3.1.4; python_version >= \"3\" in /usr/local/lib/python3.6/dist-packages (from google-auth<2,>=1.6.3->tensorboard<3,>=2.3.0->tensorflow>=2.1.0->stellargraph) (4.6)\n",
            "Requirement already satisfied: cachetools<5.0,>=2.0.0 in /usr/local/lib/python3.6/dist-packages (from google-auth<2,>=1.6.3->tensorboard<3,>=2.3.0->tensorflow>=2.1.0->stellargraph) (4.1.1)\n",
            "Requirement already satisfied: pyasn1-modules>=0.2.1 in /usr/local/lib/python3.6/dist-packages (from google-auth<2,>=1.6.3->tensorboard<3,>=2.3.0->tensorflow>=2.1.0->stellargraph) (0.2.8)\n",
            "Requirement already satisfied: requests-oauthlib>=0.7.0 in /usr/local/lib/python3.6/dist-packages (from google-auth-oauthlib<0.5,>=0.4.1->tensorboard<3,>=2.3.0->tensorflow>=2.1.0->stellargraph) (1.3.0)\n",
            "Requirement already satisfied: importlib-metadata; python_version < \"3.8\" in /usr/local/lib/python3.6/dist-packages (from markdown>=2.6.8->tensorboard<3,>=2.3.0->tensorflow>=2.1.0->stellargraph) (1.7.0)\n",
            "Requirement already satisfied: botocore<1.18.0,>=1.17.63 in /usr/local/lib/python3.6/dist-packages (from boto3->smart-open>=1.2.1->gensim>=3.4.0->stellargraph) (1.17.63)\n",
            "Requirement already satisfied: s3transfer<0.4.0,>=0.3.0 in /usr/local/lib/python3.6/dist-packages (from boto3->smart-open>=1.2.1->gensim>=3.4.0->stellargraph) (0.3.3)\n",
            "Requirement already satisfied: jmespath<1.0.0,>=0.7.1 in /usr/local/lib/python3.6/dist-packages (from boto3->smart-open>=1.2.1->gensim>=3.4.0->stellargraph) (0.10.0)\n",
            "Requirement already satisfied: pyasn1>=0.1.3 in /usr/local/lib/python3.6/dist-packages (from rsa<5,>=3.1.4; python_version >= \"3\"->google-auth<2,>=1.6.3->tensorboard<3,>=2.3.0->tensorflow>=2.1.0->stellargraph) (0.4.8)\n",
            "Requirement already satisfied: oauthlib>=3.0.0 in /usr/local/lib/python3.6/dist-packages (from requests-oauthlib>=0.7.0->google-auth-oauthlib<0.5,>=0.4.1->tensorboard<3,>=2.3.0->tensorflow>=2.1.0->stellargraph) (3.1.0)\n",
            "Requirement already satisfied: zipp>=0.5 in /usr/local/lib/python3.6/dist-packages (from importlib-metadata; python_version < \"3.8\"->markdown>=2.6.8->tensorboard<3,>=2.3.0->tensorflow>=2.1.0->stellargraph) (3.1.0)\n",
            "Requirement already satisfied: docutils<0.16,>=0.10 in /usr/local/lib/python3.6/dist-packages (from botocore<1.18.0,>=1.17.63->boto3->smart-open>=1.2.1->gensim>=3.4.0->stellargraph) (0.15.2)\n"
          ],
          "name": "stdout"
        }
      ]
    },
    {
      "cell_type": "code",
      "metadata": {
        "id": "GTsfJl_3FdHY"
      },
      "source": [
        "import torch\n",
        "import torch.nn as nn\n",
        "import torch.nn.functional as F\n",
        "import scipy.sparse as sp\n",
        "import numpy as np\n",
        "import pandas as pd\n",
        "import networkx as nx\n",
        "import seaborn as sns\n",
        "import os\n",
        "import time\n",
        "from sklearn.model_selection import train_test_split\n",
        "from sklearn.metrics import roc_curve,auc,precision_recall_curve,confusion_matrix\n",
        "from sklearn.metrics import accuracy_score,roc_auc_score,average_precision_score, accuracy_score\n",
        "from torch.utils.data import Dataset,DataLoader\n",
        "from torch.autograd import Variable\n",
        "from stellargraph.data import EdgeSplitter\n",
        "from pylab import savefig\n",
        "from matplotlib import pyplot"
      ],
      "execution_count": null,
      "outputs": []
    },
    {
      "cell_type": "code",
      "metadata": {
        "id": "0sRHjQv0mH0h",
        "colab": {
          "base_uri": "https://localhost:8080/",
          "height": 34
        },
        "outputId": "1a31ae9e-ca9d-43c4-c794-f8d73aaab7e2"
      },
      "source": [
        "import dgl\n",
        "from dgl import DGLGraph\n",
        "dgl.load_backend('pytorch')\n",
        "from dgl.nn.pytorch import conv as dgl_conv"
      ],
      "execution_count": null,
      "outputs": [
        {
          "output_type": "stream",
          "text": [
            "Using backend: pytorch\n"
          ],
          "name": "stderr"
        }
      ]
    },
    {
      "cell_type": "markdown",
      "metadata": {
        "id": "aW2DYPmX2nLU"
      },
      "source": [
        "#### 2. Load the dataset\n",
        "\n",
        "###### We have uploaded our dataset on google drive. So, we are accesing our dataset from there. \n",
        "for that we are mounting google drive as shown below."
      ]
    },
    {
      "cell_type": "code",
      "metadata": {
        "id": "s-mNqC6_JDSK",
        "colab": {
          "base_uri": "https://localhost:8080/",
          "height": 34
        },
        "outputId": "4c4c57e4-c1ca-4a5f-d23d-fec4f6a023ab"
      },
      "source": [
        "from google.colab import drive\n",
        "drive.mount('/content/drive')"
      ],
      "execution_count": null,
      "outputs": [
        {
          "output_type": "stream",
          "text": [
            "Drive already mounted at /content/drive; to attempt to forcibly remount, call drive.mount(\"/content/drive\", force_remount=True).\n"
          ],
          "name": "stdout"
        }
      ]
    },
    {
      "cell_type": "markdown",
      "metadata": {
        "id": "dc6JOzGQ3zf8"
      },
      "source": [
        "#### 3. Clean the data if needed\n",
        "To see if there is any cleaning required or not?\n",
        "\n",
        "We will look into the dataset and explore it to know more about it. "
      ]
    },
    {
      "cell_type": "code",
      "metadata": {
        "id": "RMv1vzXQI83O",
        "colab": {
          "base_uri": "https://localhost:8080/",
          "height": 34
        },
        "outputId": "cd9c4321-7680-42f2-e253-d4d8fc36a780"
      },
      "source": [
        "raw_edge_list = open('/content/drive/My Drive/Project/yeast.edgelist','r')\n",
        "G = nx.Graph()\n",
        "G = nx.parse_edgelist(raw_edge_list, delimiter='\\t', create_using=G,nodetype=str, data=(('weight', float),))\n",
        "# Get graph edges and nodes from networkx graph object\n",
        "nodes = G.nodes\n",
        "edges = G.edges\n",
        "\n",
        "print(\"Graph's Nodes : {} / Edges : {}\".format(len(nodes), len(edges)))"
      ],
      "execution_count": null,
      "outputs": [
        {
          "output_type": "stream",
          "text": [
            "Graph's Nodes : 6526 / Edges : 532180\n"
          ],
          "name": "stdout"
        }
      ]
    },
    {
      "cell_type": "code",
      "metadata": {
        "id": "-UtTPC8suuve"
      },
      "source": [
        "G = nx.relabel.convert_node_labels_to_integers(G, first_label=0, ordering='default', label_attribute=None)"
      ],
      "execution_count": null,
      "outputs": []
    },
    {
      "cell_type": "code",
      "metadata": {
        "id": "0ymGmp_LFdH7"
      },
      "source": [
        "# G.remove_edges_from(nx.selfloop_edges(G))"
      ],
      "execution_count": null,
      "outputs": []
    },
    {
      "cell_type": "markdown",
      "metadata": {
        "id": "8RgMQLw95AAH"
      },
      "source": [
        "From the above analysis, it is clear that our data is clean. So, we do not need to clean it.<br> We have also converted our node label to integers so that it will be easy to make the computation.\n",
        "\n",
        "Now let us move onto the next step called data-splitting."
      ]
    },
    {
      "cell_type": "markdown",
      "metadata": {
        "id": "rYncF1Rs5hHP"
      },
      "source": [
        "#### 4. Split our data into training, validation, and testing.\n",
        "\n",
        "Here we would like to split our data into training, testing, and validation set.<br>\n",
        "For this splitting, we are using the Edgesplitter library.<br>  "
      ]
    },
    {
      "cell_type": "code",
      "metadata": {
        "id": "DwrJ4mGW6IgQ",
        "colab": {
          "base_uri": "https://localhost:8080/",
          "height": 34
        },
        "outputId": "4fddcbeb-75f5-4aa6-ceec-7f50853e7743"
      },
      "source": [
        "es_test = EdgeSplitter(G)\n",
        "graph_test, examples_test, link_labels_test = es_test.train_test_split(p=0.025, method=\"global\")"
      ],
      "execution_count": null,
      "outputs": [
        {
          "output_type": "stream",
          "text": [
            "** Sampled 133045 positive and 133045 negative edges. **\n"
          ],
          "name": "stdout"
        }
      ]
    },
    {
      "cell_type": "code",
      "metadata": {
        "id": "yBqlzReX6M_f",
        "colab": {
          "base_uri": "https://localhost:8080/",
          "height": 34
        },
        "outputId": "90f715e7-0ac7-4c76-d938-5c96015d998a"
      },
      "source": [
        "es_train = EdgeSplitter(graph_test, G)\n",
        "graph_train, examples_train, link_labels_train = es_train.train_test_split(\n",
        "    p=0.25, method=\"global\")\n",
        "examples_train,examples_val, link_labels_train, link_label_val = train_test_split(\n",
        "    examples_train, link_labels_train, test_size=0.1, random_state = 20200226, \n",
        "    stratify= link_labels_train)"
      ],
      "execution_count": null,
      "outputs": [
        {
          "output_type": "stream",
          "text": [
            "** Sampled 99783 positive and 99783 negative edges. **\n"
          ],
          "name": "stdout"
        }
      ]
    },
    {
      "cell_type": "code",
      "metadata": {
        "id": "A285mZOEs6YT"
      },
      "source": [
        "# edge_splitter_train = EdgeSplitter(graph_test, graph)\n",
        "# graph_train, examples, labels = edge_splitter_train.train_test_split(p=0.1, method=\"global\")\n",
        "# (examples_train, examples_model_selection, labels_train,labels_model_selection,) = train_test_split(examples, labels, train_size=0.75, test_size=0.25)"
      ],
      "execution_count": null,
      "outputs": []
    },
    {
      "cell_type": "code",
      "metadata": {
        "id": "mpvNgpyOp-jW",
        "colab": {
          "base_uri": "https://localhost:8080/",
          "height": 119
        },
        "outputId": "053a5b06-4f92-40d8-ad32-163bf19fa431"
      },
      "source": [
        "print(len(examples_test))\n",
        "print(len(link_labels_test))\n",
        "print(len(examples_train))\n",
        "print(len(examples_val))\n",
        "print(len(link_labels_train))\n",
        "print(len(link_label_val))"
      ],
      "execution_count": null,
      "outputs": [
        {
          "output_type": "stream",
          "text": [
            "266090\n",
            "266090\n",
            "179609\n",
            "19957\n",
            "179609\n",
            "19957\n"
          ],
          "name": "stdout"
        }
      ]
    },
    {
      "cell_type": "code",
      "metadata": {
        "id": "uhEnR5hdzOqw",
        "colab": {
          "base_uri": "https://localhost:8080/",
          "height": 35
        },
        "outputId": "5e0cc9d2-30f1-4455-866f-dd87a5d91faa"
      },
      "source": [
        "torch.cuda.get_device_name(0)"
      ],
      "execution_count": null,
      "outputs": [
        {
          "output_type": "execute_result",
          "data": {
            "application/vnd.google.colaboratory.intrinsic+json": {
              "type": "string"
            },
            "text/plain": [
              "'Tesla K80'"
            ]
          },
          "metadata": {
            "tags": []
          },
          "execution_count": 121
        }
      ]
    },
    {
      "cell_type": "markdown",
      "metadata": {
        "id": "-WGAQoeNmQbP"
      },
      "source": [
        "**Feature matrix**<br>\n",
        "For our neural network inputs, we are using a feature matrix. <br> Since we are using PyTorch and working with the tensor, we have created such a sparse matrix as shown in the function below."
      ]
    },
    {
      "cell_type": "code",
      "metadata": {
        "id": "dR-Goe2i-e0c"
      },
      "source": [
        "def preprocess_graph(adj):\n",
        "  adj = sp.coo_matrix(adj)\n",
        "  adj_ = adj + sp.eye(adj.shape[0])\n",
        "  rowsum = np.array(adj_.sum(1))\n",
        "  degree_mat_inv_sqrt = sp.diags(np.power(rowsum, -0.5).flatten())\n",
        "  features = adj_.dot(degree_mat_inv_sqrt).transpose().dot(degree_mat_inv_sqrt).tocoo() \n",
        "  print(features.shape)\n",
        "\n",
        "  print(type(features))\n",
        "\n",
        "  indices = np.vstack((features.row, features.col))\n",
        "  values = features.data\n",
        "  shape = features.shape\n",
        "  i = torch.LongTensor(indices)\n",
        "  v = torch.FloatTensor(values)\n",
        "\n",
        "  features = torch.sparse.FloatTensor(i, v, torch.Size(shape)).to_dense()\n",
        "  return features"
      ],
      "execution_count": null,
      "outputs": []
    },
    {
      "cell_type": "code",
      "metadata": {
        "id": "HOB104U9gldp",
        "colab": {
          "base_uri": "https://localhost:8080/",
          "height": 51
        },
        "outputId": "dde9543f-3df6-458d-cef1-323cbd3c85a5"
      },
      "source": [
        "features = preprocess_graph(nx.adjacency_matrix(graph_train))\n"
      ],
      "execution_count": null,
      "outputs": [
        {
          "output_type": "stream",
          "text": [
            "(6526, 6526)\n",
            "<class 'scipy.sparse.coo.coo_matrix'>\n"
          ],
          "name": "stdout"
        }
      ]
    },
    {
      "cell_type": "markdown",
      "metadata": {
        "id": "-bj9hDUoqrMT"
      },
      "source": [
        "Pytorch provides dataset which will be helpful to access large file such that it can be used for multiprocessing "
      ]
    },
    {
      "cell_type": "code",
      "metadata": {
        "id": "JtxwdwacnCyI"
      },
      "source": [
        "class EdgeDataset(Dataset):\n",
        "    def __init__(self, x, y):\n",
        "        super(EdgeDataset, self).__init__()\n",
        "        assert x.shape[0] == y.shape[0] # assuming shape[0] = dataset size\n",
        "        self.x = x\n",
        "        self.y = y\n",
        "    def __len__(self):\n",
        "        return self.y.shape[0]\n",
        "\n",
        "    def __getitem__(self, index):\n",
        "        return self.x[index], self.y[index]"
      ],
      "execution_count": null,
      "outputs": []
    },
    {
      "cell_type": "code",
      "metadata": {
        "id": "lrCrpkRri0o-"
      },
      "source": [
        "use_cuda = torch.cuda.is_available()\n",
        "device = torch.device(\"cuda\" if use_cuda else \"cpu\")"
      ],
      "execution_count": null,
      "outputs": []
    },
    {
      "cell_type": "markdown",
      "metadata": {
        "id": "hJsJ7J5As5cj"
      },
      "source": [
        "#### 5. Define our Neural netowrk\n",
        "\n",
        "Here we are using Graph convolution network so our neural network will cosist GCN. <br> We are generating NN as shown in code below: <br>\n",
        "We are using four different layers for NN their order is as below:\n",
        "* GCN layer 1\n",
        "* GCN layer 2\n",
        "* Linear layer 1\n",
        "* Linear layer 2\n",
        "<br>\n",
        "<b>Note:</b> Please keep the track of dimension of layers. "
      ]
    },
    {
      "cell_type": "code",
      "metadata": {
        "id": "LCcx4SZCFdHs"
      },
      "source": [
        "class GCNModel(nn.Module):\n",
        "    def __init__(self, inl_dim, hl1_dim, hl2_dim, opl_dim):\n",
        "        super(GCNModel, self).__init__()\n",
        "        \n",
        "\n",
        "        self.gcn_layer_1 = dgl_conv.GraphConv(inl_dim, hl1_dim)\n",
        "\n",
        "        self.gcn_layer_2 = dgl_conv.GraphConv(hl1_dim, hl2_dim)\n",
        "\n",
        "        self.lin_layer_1 = nn.Linear(hl2_dim, opl_dim)\n",
        "\n",
        "        self.lin_layer_2 = nn.Linear(opl_dim,1)\n",
        "\n",
        "    def forward(self, g, features, node_pairs, link_labels): \n",
        "        x = features\n",
        "        x = self.gcn_layer_1(g, features)\n",
        "        x = F.relu(x)\n",
        "\n",
        "        x = self.gcn_layer_2(g,x)\n",
        "        x = F.relu(x)\n",
        "\n",
        "        src = node_pairs[:,0]\n",
        "        dst = node_pairs[:,1]\n",
        "\n",
        "        emb_src = x[src]\n",
        "        emb_dst = x[dst]\n",
        "\n",
        "        # z_tensor = torch.mul(emb_src,emb_dst)  # Hadamard\n",
        "        z_tensor = (emb_src - emb_dst) / 2.0\n",
        "        # z_tensor = torch.abs(emb_src - emb_dst)  # weighted l1\n",
        "        z_tensor = self.lin_layer_1(z_tensor)\n",
        "        z_tensor = F.relu(z_tensor)\n",
        "        z_tensor = self.lin_layer_2(z_tensor)\n",
        "        sigm = nn.Sigmoid()\n",
        "        z_tensor = sigm(z_tensor)\n",
        "        return z_tensor.view(-1)\n",
        "    \n",
        "    def predict(self, g, features, node_pairs, link_labels):\n",
        "        pred = self.forward(g, features, node_pairs, link_labels)\n",
        "        loss = nn.BCELoss()(pred, link_labels)\n",
        "        return loss, pred\n"
      ],
      "execution_count": null,
      "outputs": []
    },
    {
      "cell_type": "markdown",
      "metadata": {
        "id": "ocfZXBsKu-QI"
      },
      "source": [
        "#### Create and train model \n",
        "In the function defined below we are traing our model."
      ]
    },
    {
      "cell_type": "code",
      "metadata": {
        "id": "PRjLgLq2mve9"
      },
      "source": [
        "def create_model_and_train(inl_dim, hl1_dim, hl2_dim, opl_dim, batch_size, lr, n_epochs):\n",
        "  g = dgl.from_networkx(graph_train)\n",
        "  g = dgl.add_self_loop(g)\n",
        "  g.readonly()\n",
        "  model = GCNModel(inl_dim = inl_dim, hl1_dim = hl1_dim,\n",
        "                   hl2_dim = hl2_dim, opl_dim = opl_dim)\n",
        "  model.to(device)\n",
        "  optimizer = torch.optim.Adam(model.parameters(), lr=lr)\n",
        "  traindata = EdgeDataset(examples_train, link_labels_train)\n",
        "  edge_loader = DataLoader(traindata, batch_size=batch_size, shuffle=True)\n",
        "  print(\"Training for {} epochs.\".format(n_epochs))\n",
        "\n",
        "  eval_report = {\n",
        "      'train_losses':[],\n",
        "      'train_rocs':[],\n",
        "      'train_aps':[],\n",
        "      'train_acs' :[],\n",
        "      'val_losses':[],\n",
        "      'val_rocs':[],\n",
        "      'val_aps':[],\n",
        "      'val_acs':[],\n",
        "      'times_per_epoch':[],\n",
        "      'epochs':[],\n",
        "      'learning_rate': list(np.full((n_epochs,),lr)),\n",
        "      'batch_size':list(np.full((n_epochs,),batch_size)),\n",
        "      'hidden1_dim':list(np.full((n_epochs,),hl1_dim)) ,\n",
        "      'hidden2_dim':list(np.full((n_epochs,),hl2_dim)) ,\n",
        "      'opl_dim':list(np.full((n_epochs,),opl_dim))\n",
        "  }\n",
        "\n",
        "  sigm_val_pred = []\n",
        "  for epoch in range(n_epochs):\n",
        "    eval_report['epochs'].append(epoch+1)\n",
        "    t = time.time()\n",
        "    print('\\n', end='')\n",
        "    \n",
        "    loss = 0.0\n",
        "    train_roc = 0.0\n",
        "    train_ap = 0.0\n",
        "    for i,data in enumerate(edge_loader):\n",
        "\n",
        "      pairs, edges = data\n",
        "      pairs = Variable(pairs).cuda()\n",
        "      edges = Variable(edges.float()).cuda()\n",
        "      \n",
        "      optimizer.zero_grad()\n",
        "      loss, pred = model.predict(g.to(device), torch.FloatTensor(features).cuda(), pairs, edges)\n",
        "      # loss, pred = model.predict(g, torch.FloatTensor(features).cuda(), pairs, edges)\n",
        "      loss.backward()\n",
        "      optimizer.step()\n",
        "\n",
        "      pred = pred.detach().to(\"cpu\").numpy()\n",
        "      y_pred = []\n",
        "      y_pred = np.append(y_pred, pred)\n",
        "      train_roc = roc_auc_score(edges.detach().to(\"cpu\").numpy(), y_pred)\n",
        "      train_ap = average_precision_score(edges.detach().to(\"cpu\").numpy(), y_pred)\n",
        "      train_ac = accuracy_score(edges.detach().to(\"cpu\").numpy(), y_pred.round())\n",
        "      print(\"\\repoch = {}/{} ({}/{}) - loss = {:.4f} roc_auc_score = {:.4f} train_ac = {:.4f} \"\n",
        "      .format(epoch+1,n_epochs,i+1,int(examples_train.shape[0]/batch_size),\n",
        "              loss,train_roc, train_ac),end='',flush=True)\n",
        "  \n",
        "    eval_report['train_losses'].append(float(loss.detach().to('cpu').numpy()))\n",
        "    eval_report['train_rocs'].append(train_roc)\n",
        "    eval_report['train_aps'].append(train_ap)\n",
        "    eval_report['train_acs'].append(train_ac)\n",
        "    \n",
        "\n",
        "\n",
        "    val_loss, val_pred = model.predict(g.to(device),torch.FloatTensor(features).cuda(), \n",
        "                                      torch.tensor(examples_val).cuda(), \n",
        "                                      torch.FloatTensor(link_label_val).cuda())\n",
        "    val_pred = val_pred.detach().to(\"cpu\").numpy()\n",
        "    sigm_val_pred = val_pred\n",
        "    val_y_pred = []\n",
        "    val_y_pred = np.append(val_y_pred, val_pred)\n",
        "    val_roc = roc_auc_score(link_label_val, val_y_pred)\n",
        "    val_ap = average_precision_score(link_label_val, val_y_pred)\n",
        "    val_ac = accuracy_score(link_label_val, val_y_pred.round())\n",
        "    \n",
        "    eval_report['val_losses'].append(float(val_loss.detach().to('cpu').numpy()))\n",
        "    eval_report['val_rocs'].append(val_roc)\n",
        "    eval_report['val_aps'].append(val_ap)\n",
        "    eval_report['val_acs'].append(val_ac)\n",
        "    eval_report['times_per_epoch'].append(float(time.time()-t))\n",
        "\n",
        "    print(\"\\repoch = {}/{} - loss = {:.4f} roc_auc_score = {:.4f} val_loss = {:.4f} val_roc_auc_score = {:.4f} val_avg_precision = {:.4f} time= {:.5f}\"\n",
        "    .format(epoch+1,n_epochs,loss,train_roc,val_loss,val_roc,val_ap, time.time()-t),end='',flush=False)\n",
        "  return model,eval_report,sigm_val_pred"
      ],
      "execution_count": null,
      "outputs": []
    },
    {
      "cell_type": "markdown",
      "metadata": {
        "id": "GcWWACFBUr42"
      },
      "source": [
        "#### 6. Tuning our model using the split dataset "
      ]
    },
    {
      "cell_type": "markdown",
      "metadata": {
        "id": "4OlZKdXerXhB"
      },
      "source": [
        "**Set Hyperparameters:** <br>\n",
        "Hyperparameters are the vital knob for training our model, whichaids to find out the best performing model. They can be chosen heuristically from certain numbers since there is a no specific for-mula to choose them. Performance of the model varies accordingto these hyperparameters. Henceforth, we can change these param-eters and find it out that for which of them our model is providingthe best performance."
      ]
    },
    {
      "cell_type": "code",
      "metadata": {
        "id": "EaRbPXKZrVHj"
      },
      "source": [
        "inl_dim = features.shape[0]\n",
        "hl1_dim = 512\n",
        "hl2_dim = 128\n",
        "opl_dim = 256\n",
        "batch_size = 64\n",
        "lr = 0.001\n",
        "n_epochs = 24"
      ],
      "execution_count": null,
      "outputs": []
    },
    {
      "cell_type": "markdown",
      "metadata": {
        "id": "qhwcLjmxtHzF"
      },
      "source": [
        "Training start "
      ]
    },
    {
      "cell_type": "code",
      "metadata": {
        "id": "p3rErTt-56cn",
        "colab": {
          "base_uri": "https://localhost:8080/",
          "height": 510
        },
        "outputId": "27b71f3e-a345-4218-fd4f-ab4e590bb79b"
      },
      "source": [
        "model, eval_report, sigmoid_val_pred = create_model_and_train(inl_dim, \n",
        "                                                              hl1_dim,\n",
        "                                                              hl2_dim,\n",
        "                                                              opl_dim,\n",
        "                                                              batch_size,\n",
        "                                                              lr, \n",
        "                                                              n_epochs)\n",
        "#append_to_csv(eval_report)"
      ],
      "execution_count": null,
      "outputs": [
        {
          "output_type": "stream",
          "text": [
            "Training for 24 epochs.\n",
            "\n",
            "\repoch = 1/24 (1/2806) - loss = 0.6903 roc_auc_score = 0.5438 train_ac = 0.5469 "
          ],
          "name": "stdout"
        },
        {
          "output_type": "stream",
          "text": [
            "/usr/local/lib/python3.6/dist-packages/dgl/base.py:45: DGLWarning: DGLGraph.readonly is deprecated in v0.5.\n",
            "DGLGraph now always supports mutable operations like add_nodes and add_edges.\n",
            "  return warnings.warn(message, category=category, stacklevel=1)\n"
          ],
          "name": "stderr"
        },
        {
          "output_type": "stream",
          "text": [
            "epoch = 1/24 - loss = 0.3682 roc_auc_score = 0.9487 val_loss = 0.4559 val_roc_auc_score = 0.8698 val_avg_precision = 0.8524 time= 330.05163\n",
            "epoch = 2/24 - loss = 0.3856 roc_auc_score = 0.9097 val_loss = 0.4292 val_roc_auc_score = 0.8831 val_avg_precision = 0.8689 time= 330.64993\n",
            "epoch = 3/24 - loss = 0.4778 roc_auc_score = 0.8400 val_loss = 0.4215 val_roc_auc_score = 0.8897 val_avg_precision = 0.8770 time= 330.65950\n",
            "epoch = 4/24 - loss = 0.2933 roc_auc_score = 0.9359 val_loss = 0.4131 val_roc_auc_score = 0.8942 val_avg_precision = 0.8813 time= 330.67654\n",
            "epoch = 5/24 - loss = 0.3618 roc_auc_score = 0.9295 val_loss = 0.4054 val_roc_auc_score = 0.8981 val_avg_precision = 0.8861 time= 330.56077\n",
            "epoch = 6/24 - loss = 0.3899 roc_auc_score = 0.9221 val_loss = 0.3998 val_roc_auc_score = 0.9011 val_avg_precision = 0.8888 time= 330.37513\n",
            "epoch = 7/24 - loss = 0.3368 roc_auc_score = 0.9416 val_loss = 0.4201 val_roc_auc_score = 0.8905 val_avg_precision = 0.8702 time= 330.24990\n",
            "epoch = 8/24 - loss = 0.4650 roc_auc_score = 0.8636 val_loss = 0.4021 val_roc_auc_score = 0.9030 val_avg_precision = 0.8910 time= 330.36260\n",
            "epoch = 9/24 - loss = 0.3007 roc_auc_score = 0.9485 val_loss = 0.4003 val_roc_auc_score = 0.9039 val_avg_precision = 0.8926 time= 330.54146\n",
            "epoch = 10/24 - loss = 0.3142 roc_auc_score = 0.9133 val_loss = 0.4024 val_roc_auc_score = 0.9034 val_avg_precision = 0.8897 time= 330.44105\n",
            "epoch = 11/24 - loss = 0.4443 roc_auc_score = 0.9118 val_loss = 0.4050 val_roc_auc_score = 0.9054 val_avg_precision = 0.8932 time= 330.57440\n",
            "epoch = 12/24 - loss = 0.2611 roc_auc_score = 0.9744 val_loss = 0.3944 val_roc_auc_score = 0.9077 val_avg_precision = 0.8948 time= 330.52591\n",
            "epoch = 13/24 - loss = 0.2626 roc_auc_score = 0.9933 val_loss = 0.3992 val_roc_auc_score = 0.9073 val_avg_precision = 0.8952 time= 330.87811\n",
            "epoch = 14/24 - loss = 0.3672 roc_auc_score = 0.8730 val_loss = 0.3998 val_roc_auc_score = 0.9057 val_avg_precision = 0.8905 time= 330.63913\n",
            "epoch = 15/24 - loss = 0.2190 roc_auc_score = 0.9870 val_loss = 0.3950 val_roc_auc_score = 0.9088 val_avg_precision = 0.8952 time= 330.57632\n",
            "epoch = 16/24 - loss = 0.3934 roc_auc_score = 0.8896 val_loss = 0.4014 val_roc_auc_score = 0.9072 val_avg_precision = 0.8943 time= 330.47777\n",
            "epoch = 17/24 - loss = 0.1808 roc_auc_score = 0.9935 val_loss = 0.3948 val_roc_auc_score = 0.9113 val_avg_precision = 0.8987 time= 330.23298\n",
            "epoch = 18/24 - loss = 0.2555 roc_auc_score = 0.9733 val_loss = 0.3908 val_roc_auc_score = 0.9122 val_avg_precision = 0.9000 time= 330.45077\n",
            "epoch = 19/24 - loss = 0.4505 roc_auc_score = 0.8701 val_loss = 0.3916 val_roc_auc_score = 0.9114 val_avg_precision = 0.8980 time= 330.41012\n",
            "epoch = 20/24 - loss = 0.2861 roc_auc_score = 0.9740 val_loss = 0.3948 val_roc_auc_score = 0.9125 val_avg_precision = 0.9001 time= 330.24953\n",
            "epoch = 21/24 - loss = 0.2218 roc_auc_score = 0.9872 val_loss = 0.3913 val_roc_auc_score = 0.9118 val_avg_precision = 0.8988 time= 330.63400\n",
            "epoch = 22/24 - loss = 0.3207 roc_auc_score = 0.9103 val_loss = 0.3929 val_roc_auc_score = 0.9123 val_avg_precision = 0.8986 time= 330.46189\n",
            "epoch = 23/24 - loss = 0.3006 roc_auc_score = 0.9559 val_loss = 0.3970 val_roc_auc_score = 0.9099 val_avg_precision = 0.8957 time= 330.67821\n",
            "epoch = 24/24 (351/2806) - loss = 0.2995 roc_auc_score = 0.9453 train_ac = 0.8750 "
          ],
          "name": "stdout"
        }
      ]
    },
    {
      "cell_type": "markdown",
      "metadata": {
        "id": "mckYJO8B57yD"
      },
      "source": [
        "#### 7. Measuring the performance of the model\n",
        "To find out the performance of the model for unseen testing data, we are considering evaluation matrices such as CM, ROC curve, ROC AUC score, PR curve, and AP score. These scores are discussed below for the test dataset. \n",
        "\n",
        "**Note:** Since our program was computationally lengthy we were not able to use the cross-validation technique. To come over that we have stored performance scores in the Datafrme and from that, we have decided our best setting for hyperparameters."
      ]
    },
    {
      "cell_type": "code",
      "metadata": {
        "id": "XQVM3G7P84Pj"
      },
      "source": [
        "testdata = EdgeDataset(examples_test,link_labels_test)\n",
        "test_loader = DataLoader(testdata, batch_size, shuffle=False)"
      ],
      "execution_count": null,
      "outputs": []
    },
    {
      "cell_type": "code",
      "metadata": {
        "id": "H7TnBGWwWmpX"
      },
      "source": [
        "g_test = dgl.from_networkx(graph_test)\n",
        "g_test = dgl.add_self_loop(g_test)\n",
        "# g_test.from_networkx(graph_test)\n",
        "g_test.readonly()\n",
        "test_preds = []\n",
        "test_true = []\n",
        "test_losses = []\n",
        "for i,Data in enumerate(test_loader):\n",
        "  node_pairs, labels_test = Data\n",
        "  with torch.no_grad():\n",
        "    test_loss, test_pred = model.predict(g_test.to(device),\n",
        "                                         torch.FloatTensor(features).cuda(), \n",
        "                                         torch.tensor(node_pairs).cuda(), \n",
        "                                         labels_test.float().cuda())\n",
        "    \n",
        "    test_losses.append(test_loss)\n",
        "    test_pred = test_pred.detach().to(\"cpu\").numpy()\n",
        "    test_preds = np.append(test_preds, test_pred)\n",
        "    test_true = np.append(test_true,labels_test)"
      ],
      "execution_count": null,
      "outputs": []
    },
    {
      "cell_type": "code",
      "metadata": {
        "id": "TF6qa-OvP3vG"
      },
      "source": [
        "\n",
        "test_roc = roc_auc_score(test_true, test_preds)\n",
        "test_ap = average_precision_score(test_true,test_preds)\n",
        "test_ac = accuracy_score(test_true, test_preds.round())\n",
        "print(\"Test ROC AUC Score = {:.4f}\\nTest Average Precision Score = {:.4f}\\nTest Accuracy Score = {:.4f}\".format(test_roc,test_ap, test_ac))"
      ],
      "execution_count": null,
      "outputs": []
    },
    {
      "cell_type": "markdown",
      "metadata": {
        "id": "FbGmZjwIMu7t"
      },
      "source": [
        "**Storing performance score** <br>\n",
        "Here we are storing a performance score with hyperparameters setting in CSV format.<br>\n",
        "Later we are using that to decide which hyperparameter was best for our model by plotting the performance score.\n"
      ]
    },
    {
      "cell_type": "code",
      "metadata": {
        "id": "GrAH1X_LwxCi"
      },
      "source": [
        "############### generate a new csv (do not run every time) ####################\n",
        "\n",
        "# df = pd.DataFrame(columns=['epochs','learning_rate','batch_size','hidden1_dim',\n",
        "#                           'opl_dim','train_losses','train_rocs',\n",
        "#                           'train_aps','val_losses','val_rocs','val_aps',\n",
        "#                           'times_per_epoch',\n",
        "#                           'val_acs', 'train_acs'])\n",
        "# df.to_csv('/content/drive/My Drive/Project/eval_report.csv')"
      ],
      "execution_count": null,
      "outputs": []
    },
    {
      "cell_type": "code",
      "metadata": {
        "id": "qd7TQ7spwxA0"
      },
      "source": [
        "#Appending evaluation results to the CSV file\n",
        "\n",
        "df = pd.read_csv('/content/drive/My Drive/Project/eval_report.csv', index_col=0)\n",
        "df2 =pd.DataFrame({\n",
        "    'epochs':eval_report['epochs'],\n",
        "    'learning_rate':eval_report['learning_rate'],\n",
        "    'batch_size':eval_report['batch_size'],\n",
        "    'hidden1_dim':eval_report['hidden1_dim'],\n",
        "    'hidden2_dim':eval_report['hidden2_dim'],\n",
        "    'opl_dim':eval_report['opl_dim'],\n",
        "    'train_losses':eval_report['train_losses'],\n",
        "    'train_rocs':eval_report['train_rocs'],\n",
        "    'train_aps':eval_report['train_aps'],\n",
        "    'val_losses':eval_report['val_losses'],\n",
        "    'val_rocs':eval_report['val_rocs'],\n",
        "    'val_aps':eval_report['val_aps'],\n",
        "    'times_per_epoch':eval_report['times_per_epoch'],\n",
        "    'val_acs' : eval_report['val_acs'],\n",
        "    'train_acs' : eval_report['train_acs']\n",
        "  })\n",
        "df = pd.concat([df,df2],ignore_index=True)\n",
        "print(df)\n",
        "  "
      ],
      "execution_count": null,
      "outputs": []
    },
    {
      "cell_type": "code",
      "metadata": {
        "id": "wVm7ZgLoGBDs"
      },
      "source": [
        "df.to_csv('/content/drive/My Drive/Project/eval_report.csv')"
      ],
      "execution_count": null,
      "outputs": []
    },
    {
      "cell_type": "markdown",
      "metadata": {
        "id": "HxOxB39eXrFz"
      },
      "source": [
        "Plotting Confusion matrix Precision Recall & ROC curves"
      ]
    },
    {
      "cell_type": "code",
      "metadata": {
        "id": "vZuY2AiUoy9R"
      },
      "source": [
        "cf_matrix = confusion_matrix(test_true,test_preds.round())"
      ],
      "execution_count": null,
      "outputs": []
    },
    {
      "cell_type": "code",
      "metadata": {
        "id": "TaMahVdvo6LV",
        "colab": {
          "base_uri": "https://localhost:8080/",
          "height": 34
        },
        "outputId": "d2534467-fbcc-41cb-8624-de799f7e7667"
      },
      "source": [
        "print(np.sum(cf_matrix))"
      ],
      "execution_count": null,
      "outputs": [
        {
          "output_type": "stream",
          "text": [
            "266090\n"
          ],
          "name": "stdout"
        }
      ]
    },
    {
      "cell_type": "code",
      "metadata": {
        "id": "OLeOGaqbKLU4",
        "colab": {
          "base_uri": "https://localhost:8080/",
          "height": 51
        },
        "outputId": "769693d5-c8a1-434a-8fb4-b22da9a78ffa"
      },
      "source": [
        "print(cf_matrix)"
      ],
      "execution_count": null,
      "outputs": [
        {
          "output_type": "stream",
          "text": [
            "[[106432  26613]\n",
            " [ 23708 109337]]\n"
          ],
          "name": "stdout"
        }
      ]
    },
    {
      "cell_type": "code",
      "metadata": {
        "id": "6G0hiPDfbqJZ",
        "colab": {
          "base_uri": "https://localhost:8080/",
          "height": 299
        },
        "outputId": "8bfd06b2-eeaa-4252-9f8f-61f559081aac"
      },
      "source": [
        "# Creating and storing confusion matrix\n",
        "pathconf = '/content/drive/My Drive/Project/images/CFMatrix/cfmatrix_'+str(hl1_dim)+'_'+str(lr)+'_'+str(batch_size)+'_'+str(n_epochs)+'.png'\n",
        "\n",
        "group_names = ['True Neg','False Pos','False Neg','True Pos']\n",
        "group_counts = ['{0:0.0f}'.format(value) for value in\n",
        "                cf_matrix.flatten()]\n",
        "group_percentages = ['{0:.2%}'.format(value) for value in\n",
        "                     cf_matrix.flatten()/np.sum(cf_matrix)]\n",
        "labels = [f\"{v1}\\n{v2}\\n{v3}\" for v1, v2, v3 in\n",
        "          zip(group_names,group_counts,group_percentages)]\n",
        "labels = np.asarray(labels).reshape(2,2)\n",
        "a = sns.heatmap(cf_matrix, annot=labels, fmt='', cmap='Blues')\n",
        "\n",
        "figure = a.get_figure()    \n",
        "figure.savefig(pathconf, dpi=400)"
      ],
      "execution_count": null,
      "outputs": [
        {
          "output_type": "stream",
          "text": [
            "/usr/local/lib/python3.6/dist-packages/statsmodels/tools/_testing.py:19: FutureWarning: pandas.util.testing is deprecated. Use the functions in the public API at pandas.testing instead.\n",
            "  import pandas.util.testing as tm\n"
          ],
          "name": "stderr"
        },
        {
          "output_type": "display_data",
          "data": {
            "image/png": "[encoded data removed]",
            "text/plain": [
              "<Figure size 432x288 with 2 Axes>"
            ]
          },
          "metadata": {
            "tags": [],
            "needs_background": "light"
          }
        }
      ]
    },
    {
      "cell_type": "code",
      "metadata": {
        "id": "xt9_EPDj5vR1"
      },
      "source": [
        "  fpr, tpr, thresholds = roc_curve(test_true,test_preds, pos_label=1)\n",
        "  precision, recall, _ = precision_recall_curve(test_true, test_preds)\n",
        "  auc_roc = auc(fpr, tpr)"
      ],
      "execution_count": null,
      "outputs": []
    },
    {
      "cell_type": "code",
      "metadata": {
        "id": "T0VTGtdTOFJ7",
        "colab": {
          "base_uri": "https://localhost:8080/",
          "height": 541
        },
        "outputId": "33e35d96-282e-4a7d-a85d-dc2df6024401"
      },
      "source": [
        "# Creating and storing ROC and precion recall curves \n",
        "pathpr = '/content/drive/My Drive/Project/images/PRCurves/prcurve_'+str(hl1_dim)+'_'+str(lr)+'_'+str(batch_size)+'_'+str(n_epochs)+'.png'\n",
        "pathroc = '/content/drive/My Drive/Project/images/ROCCurves/racurve_'+str(hl1_dim)+'_'+str(lr)+'_'+str(batch_size)+'_'+str(n_epochs)+'.png'\n",
        "\n",
        "# plot the model precision-recall curve\n",
        "pyplot.plot(recall, precision, label='Precion Recall curve,  AP = %0.2f' %test_ap,\n",
        "            color = '#00ccff',linewidth=3.0)\n",
        "pyplot.xlabel('Recall')\n",
        "pyplot.ylabel('Precision')\n",
        "pyplot.legend(loc=3)\n",
        "pyplot.savefig(pathpr)\n",
        "pyplot.show()\n",
        "\n",
        "# plot model roc curve\n",
        "pyplot.plot([0, 1], [0, 1], 'k--', linewidth=1.0)\n",
        "pyplot.plot(fpr, tpr, label='ROC curve,  AUC = %0.2f' %auc_roc, color='#ff6600', \n",
        "            linewidth=3.0)\n",
        "pyplot.xlabel('False Positive Rate')\n",
        "pyplot.ylabel('True Positive Rate')\n",
        "pyplot.legend(loc=4)\n",
        "pyplot.savefig(pathroc)\n",
        "pyplot.show()"
      ],
      "execution_count": null,
      "outputs": [
        {
          "output_type": "display_data",
          "data": {
            "image/png": "[encoded data removed]",
            "text/plain": [
              "<Figure size 432x288 with 1 Axes>"
            ]
          },
          "metadata": {
            "tags": [],
            "needs_background": "light"
          }
        },
        {
          "output_type": "display_data",
          "data": {
            "image/png": "[encoded data removed]",
            "text/plain": [
              "<Figure size 432x288 with 1 Axes>"
            ]
          },
          "metadata": {
            "tags": [],
            "needs_background": "light"
          }
        }
      ]
    },
    {
      "cell_type": "markdown",
      "metadata": {
        "id": "h8DaNXcL48e1"
      },
      "source": [
        "<h3> Hyperparameter tuning: </h3>\n",
        "As shown above first of all we have stored the results.\n",
        "The reason behind that is because our model is taking much time for single iteration.<br>\n",
        "I have stored values in CSV fromat. <br>\n",
        "Now we are fetching values for those different hyperparameters and plotting <b>PR</b> and <b>ROC</b> values. "
      ]
    },
    {
      "cell_type": "code",
      "metadata": {
        "id": "MGg05l1wYIxL"
      },
      "source": [
        "from matplotlib import pyplot"
      ],
      "execution_count": null,
      "outputs": []
    },
    {
      "cell_type": "code",
      "metadata": {
        "id": "qHWEyQFRvXmF"
      },
      "source": [
        "# For diffenrent split Rocauc and ap scores\n",
        "\n",
        "roc_val_score_dif_split = 0.8916676006, 0.8940590986, 0.8904083035, 0.8937135005, 0.8934764525, 0.8924280704, 0.8857791774, 0.8865641424, 0.8790407612, 0.87381985\n",
        "ap_score_dif_slit       = 0.8790423214, 0.8846396526, 0.880608032, 0.8830095759, 0.8825938227, 0.882650904, 0.8738578983, 0.8750665332, 0.8625354427, 0.86067389\n",
        "usize = ['10','20','30','40','50','60', '70', '80', '90', '95']"
      ],
      "execution_count": null,
      "outputs": []
    },
    {
      "cell_type": "code",
      "metadata": {
        "colab": {
          "base_uri": "https://localhost:8080/",
          "height": 286
        },
        "id": "FRzxnGekviQU",
        "outputId": "2413c796-bb1b-4553-c5d1-fe48ca7fb62f"
      },
      "source": [
        "usize.reverse()\n",
        "pyplot.plot(usize, roc_val_score_dif_split, label='ROC AUC score',marker='o' ,color = '#fc926d',linewidth=3.0)\n",
        "pyplot.plot(usize, ap_score_dif_slit, label='AP score',marker='s' ,color = '#92f5aa',linewidth=3.0)\n",
        "pyplot.xlabel('Training set in percentage',fontsize=12)\n",
        "pyplot.ylabel('Scores',fontsize=12)\n",
        "pyplot.xticks(usize)\n",
        "pyplot.legend()\n",
        "pyplot.rcParams['xtick.labelsize'] = 10 \n",
        "pyplot.rcParams['ytick.labelsize'] = 10\n",
        "pyplot.show()"
      ],
      "execution_count": null,
      "outputs": [
        {
          "output_type": "display_data",
          "data": {
            "image/png": "[encoded data removed]",
            "text/plain": [
              "<Figure size 432x288 with 1 Axes>"
            ]
          },
          "metadata": {
            "tags": [],
            "needs_background": "light"
          }
        }
      ]
    },
    {
      "cell_type": "code",
      "metadata": {
        "id": "DAgDC2eJvz4g"
      },
      "source": [
        "# fluctuatiuon in the score by changing the epoch \n",
        "\n",
        "valrocauc = [0.890139009,0.890815185,0.889367794,0.892475344,0.892955688,\n",
        "             0.895268079,0.895390682,0.895714964,0.894352636,0.896564975,\n",
        "             0.896786191,0.896511284,0.896907541,0.897584924,0.898296043,\n",
        "             0.896876774,0.898871379,0.898824045,0.898350801,0.899520315,\n",
        "             0.898939595,0.898228291,0.89886052,0.899088604,0.898206341,0.899219514]\n",
        "\n",
        "valapscore = [0.88006891,0.880651104,0.878104226,0.882508134,0.883160622,\n",
        "              0.885906417,0.886955786,0.887900211,0.886278583,0.88892052,\n",
        "              0.888975524,0.888846114,0.889281062,0.889321064,0.890519149,\n",
        "              0.887808481,0.891745116,0.89126566,0.890431978,0.892186512,\n",
        "              0.890758317,0.889681969,0.890166544,0.891626466,0.890254931,0.891710797]    \n",
        "epoch = list(range(5,31))\n"
      ],
      "execution_count": null,
      "outputs": []
    },
    {
      "cell_type": "code",
      "metadata": {
        "colab": {
          "base_uri": "https://localhost:8080/",
          "height": 338
        },
        "id": "Wlin75LmwLnu",
        "outputId": "e6e5f85e-7ef4-494e-e6b7-2a07e103dcfa"
      },
      "source": [
        "# comaparision \n",
        "pyplot.figure(figsize=[10, 5])\n",
        "pyplot.plot(epoch, valrocauc, label='ROC AUC score',marker='o' ,color = '#cc435f',linewidth=3.0)\n",
        "pyplot.plot(epoch, valapscore, label='AP score',marker='s' ,color = '#449187',linewidth=3.0)\n",
        "pyplot.xlabel('Epoch',fontsize=14)\n",
        "pyplot.ylabel('Scores',fontsize=14)\n",
        "pyplot.xticks(epoch)\n",
        "pyplot.legend()\n",
        "pyplot.rcParams['xtick.labelsize'] = 12 \n",
        "pyplot.rcParams['ytick.labelsize'] = 12\n",
        "pyplot.show()"
      ],
      "execution_count": null,
      "outputs": [
        {
          "output_type": "display_data",
          "data": {
            "image/png": "[encoded data removed]",
            "text/plain": [
              "<Figure size 720x360 with 1 Axes>"
            ]
          },
          "metadata": {
            "tags": [],
            "needs_background": "light"
          }
        }
      ]
    },
    {
      "cell_type": "code",
      "metadata": {
        "id": "FMqOojfHwXOt"
      },
      "source": [
        "# Changing in the score by varying batch size\n",
        "\n",
        "bsize = ['1024','512','256','128','64','32']\n",
        "vel_b_rocscore = [0.8832287016,0.8832287016,0.893144403, 0.893128084, 0.897921188743932, 0.888787756]\n",
        "vel_b_ap = [0.8720220684,0.8720220684,0.883519304, 0.878760341, 0.88711690712422, 0.87184281]"
      ],
      "execution_count": null,
      "outputs": []
    },
    {
      "cell_type": "code",
      "metadata": {
        "colab": {
          "base_uri": "https://localhost:8080/",
          "height": 282
        },
        "id": "d7TKUiD0woRj",
        "outputId": "da56c5b1-ffc3-4354-93e6-f0c7d42c442f"
      },
      "source": [
        "# comparision AP - BS\n",
        "pyplot.plot(bsize, vel_b_rocscore, label='ROC AUC score',marker='o' ,color = '#2D2926FF',linewidth=3.0)\n",
        "pyplot.plot(bsize, vel_b_ap, label='AP score',marker='s' ,color = '#F2AA4CFF',linewidth=3.0)\n",
        "pyplot.xlabel('Batch size',fontsize=12)\n",
        "pyplot.ylabel('Scores',fontsize=12)\n",
        "pyplot.xticks(bsize)\n",
        "pyplot.legend()\n",
        "pyplot.rcParams['xtick.labelsize'] = 10 \n",
        "pyplot.rcParams['ytick.labelsize'] = 10\n",
        "pyplot.show()"
      ],
      "execution_count": null,
      "outputs": [
        {
          "output_type": "display_data",
          "data": {
            "image/png": "[encoded data removed]",
            "text/plain": [
              "<Figure size 432x288 with 1 Axes>"
            ]
          },
          "metadata": {
            "tags": [],
            "needs_background": "light"
          }
        }
      ]
    },
    {
      "cell_type": "code",
      "metadata": {
        "id": "aSzwZnE9xkjE"
      },
      "source": [
        "# Changing in th score by learning rate\n",
        "lrate = ['0.005', '0.001', '0.01']\n",
        "vel_l_rocscore = [0.883015137, 0.897665539, 0.891059064]\n",
        "vel_l_ap = [0.814128562, 0.893411177, 0.880513863]\n"
      ],
      "execution_count": null,
      "outputs": []
    },
    {
      "cell_type": "code",
      "metadata": {
        "colab": {
          "base_uri": "https://localhost:8080/",
          "height": 282
        },
        "id": "CNLyzaWOxtIw",
        "outputId": "ae9f3cf8-0a61-4545-aef3-c61a663b0dc9"
      },
      "source": [
        "pyplot.plot(lrate, vel_l_rocscore, label='ROC AUC score',marker='o' ,color = '#F93822FF',linewidth=3.0)\n",
        "pyplot.plot(lrate, vel_l_ap, label='AP score',marker='s' ,color = '#FDD20EFF',linewidth=3.0)\n",
        "pyplot.xlabel('Learning rate',fontsize=12)\n",
        "pyplot.ylabel('Scores',fontsize=12)\n",
        "pyplot.xticks(lrate)\n",
        "pyplot.legend()\n",
        "pyplot.rcParams['xtick.labelsize'] = 10 \n",
        "pyplot.rcParams['ytick.labelsize'] = 10\n",
        "pyplot.show()"
      ],
      "execution_count": null,
      "outputs": [
        {
          "output_type": "display_data",
          "data": {
            "image/png": "[encoded data removed]",
            "text/plain": [
              "<Figure size 432x288 with 1 Axes>"
            ]
          },
          "metadata": {
            "tags": [],
            "needs_background": "light"
          }
        }
      ]
    },
    {
      "cell_type": "code",
      "metadata": {
        "id": "5uAFT06GsZ4i"
      },
      "source": [
        "# Unit size and respective rocauc and ap scores : hidden layer 1\n",
        "usize_h1 = ['2048','1024','512','256','128','64','32']\n",
        "vel_roc_h1 = [0.896542114, 0.897921188743932, 0.9001862216, 0.8942999825, 0.8868400366, 0.8885290204, 0.8963593756]\n",
        "vel_ap_h1 = [0.8836053183, 0.88711690712422, 0.8902362254, 0.8893651284, 0.8780666446, 0.8819697085, 0.8840728583]"
      ],
      "execution_count": null,
      "outputs": []
    },
    {
      "cell_type": "code",
      "metadata": {
        "colab": {
          "base_uri": "https://localhost:8080/",
          "height": 282
        },
        "id": "WHnjdOzKupu2",
        "outputId": "e3eaefa8-b0c0-49c3-8494-8ef0c29ee02c"
      },
      "source": [
        "pyplot.plot(usize_h1, vel_roc_h1, label='ROC AUC score',marker='o' ,color = '#00539CFF',linewidth=3.0)\n",
        "pyplot.plot(usize_h1, vel_ap_h1, label='AP score',marker='s' ,color = '#EEA47FFF',linewidth=3.0)\n",
        "pyplot.xlabel('Unit size hidden layer 1',fontsize=12)\n",
        "pyplot.ylabel('Scores',fontsize=12)\n",
        "pyplot.xticks(usize_h1)\n",
        "pyplot.legend()\n",
        "pyplot.rcParams['xtick.labelsize'] = 10 \n",
        "pyplot.rcParams['ytick.labelsize'] = 10\n",
        "pyplot.show()"
      ],
      "execution_count": null,
      "outputs": [
        {
          "output_type": "display_data",
          "data": {
            "image/png": "[encoded data removed]",
            "text/plain": [
              "<Figure size 432x288 with 1 Axes>"
            ]
          },
          "metadata": {
            "tags": [],
            "needs_background": "light"
          }
        }
      ]
    },
    {
      "cell_type": "code",
      "metadata": {
        "id": "WQBPB4YVzEaJ"
      },
      "source": [
        "# Unit size and respective rocauc and ap scores : hidden layer 2 \n",
        "usize_h2 = ['1024','512','256','128','64','32','16']\n",
        "vel_roc_h2 = [0.8998547537, 0.897921188743932, 0.8915346457, 0.9007150945, 0.89809667, 0.8891361939, 0.8891584963]\n",
        "vel_ap_h2 = [0.8883510413, 0.88711690712422,0.8785202589, 0.8889612497, 0.8871189043, 0.8839932094, 0.8825620807]"
      ],
      "execution_count": null,
      "outputs": []
    },
    {
      "cell_type": "code",
      "metadata": {
        "colab": {
          "base_uri": "https://localhost:8080/",
          "height": 282
        },
        "id": "X1AyON7czSIG",
        "outputId": "f9f71165-aae0-453d-d0ea-d8617c50ec78"
      },
      "source": [
        "pyplot.plot(usize_h2, vel_roc_h2, label='ROC AUC score',marker='o' ,color = '#606060FF',linewidth=3.0)\n",
        "pyplot.plot(usize_h2, vel_ap_h2, label='AP score',marker='s' ,color = '#D6ED17FF',linewidth=3.0)\n",
        "pyplot.xlabel('Unit size hidden layer 1',fontsize=12)\n",
        "pyplot.ylabel('Scores',fontsize=12)\n",
        "pyplot.xticks(usize_h2)\n",
        "pyplot.legend()\n",
        "pyplot.rcParams['xtick.labelsize'] = 10 \n",
        "pyplot.rcParams['ytick.labelsize'] = 10\n",
        "pyplot.show()"
      ],
      "execution_count": null,
      "outputs": [
        {
          "output_type": "display_data",
          "data": {
            "image/png": "[encoded data removed]",
            "text/plain": [
              "<Figure size 432x288 with 1 Axes>"
            ]
          },
          "metadata": {
            "tags": [],
            "needs_background": "light"
          }
        }
      ]
    },
    {
      "cell_type": "code",
      "metadata": {
        "id": "MWMagR2Ez0ed"
      },
      "source": [
        "# Unit size and respective rocauc and ap scores : hidden layer 3\n",
        "usize_h3 = ['512','256','128','64','32','16', '8']\n",
        "vel_roc_h3 = [0.8981240487, 0.897921188743932, 0.8920384459, 0.8881123094, 0.8905081619, 0.89507149, 0.8892]\n",
        "vel_ap_h3 = [0.8860755092, 0.88711690712422, 0.8882083679, 0.8803461809, 0.8765993142, 0.8842077653, 0.8763]"
      ],
      "execution_count": null,
      "outputs": []
    },
    {
      "cell_type": "code",
      "metadata": {
        "colab": {
          "base_uri": "https://localhost:8080/",
          "height": 282
        },
        "id": "qaStEEPXz_bb",
        "outputId": "af6a6884-ebb8-4a07-c5b8-41fe594552c8"
      },
      "source": [
        "pyplot.plot(usize_h3, vel_roc_h3, label='ROC AUC score',marker='o' ,color = '#343148FF',linewidth=3.0)\n",
        "pyplot.plot(usize_h3, vel_ap_h3, label='AP score',marker='s' ,color = '#D7C49EFF',linewidth=3.0)\n",
        "#pyplot.plot(usize, tr_u_rocsocre, label='training set',marker='D' ,color = '#ea907a',linewidth=3.0)\n",
        "pyplot.xlabel('Unit size output layer',fontsize=12)\n",
        "pyplot.ylabel('Scores',fontsize=12)\n",
        "pyplot.xticks(usize_h3)\n",
        "pyplot.legend()\n",
        "pyplot.rcParams['xtick.labelsize'] = 10\n",
        "pyplot.rcParams['ytick.labelsize'] = 10\n",
        "pyplot.show()"
      ],
      "execution_count": null,
      "outputs": [
        {
          "output_type": "display_data",
          "data": {
            "image/png": "[encoded data removed]",
            "text/plain": [
              "<Figure size 432x288 with 1 Axes>"
            ]
          },
          "metadata": {
            "tags": [],
            "needs_background": "light"
          }
        }
      ]
    }
  ]
}